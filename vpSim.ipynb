{
 "cells": [
  {
   "cell_type": "markdown",
   "metadata": {
    "extensions": {
     "jupyter_dashboards": {
      "version": 1,
      "views": {
       "grid_default": {
        "col": 0,
        "height": 22,
        "hidden": false,
        "row": 22,
        "width": 12
       },
       "report_default": {}
      }
     }
    }
   },
   "source": [
    "# Lista vicepresidentes\n",
    "\n",
    "La elección interna de vicepresidentes permite a cada votante marcar **cuatro distintas** opciones de preferencia. Del total de votos, las seis mayorías son electos como vicepresidente.\n",
    "\n",
    "Encontrar el número óptimo de candidatos que nuestra lista debe presentar depende:\n",
    "\n",
    "1. Cantidad de votantes\n",
    "2. Candidatos lista opositora\n",
    "3. Preferencia votantes\n",
    "\n",
    "La elección de candidatos es fundamental ya que una estrategia equivocada puede generar resultados no deseados.\n",
    "\n",
    "A modo de ejemplo, consideramos el siguiente escenario:\n",
    "\n",
    "1. Universo de 5 votantes\n",
    "2. Perfiles de preferencia:\n",
    "\n",
    "|Preferencias| Perfil 1    | Perfil 2   | Perfil 3   | Perfil 4   | Perfil 5  |\n",
    "|:----------:|:-----------:|:----------:|:----------:|:----------:|:---------:|\n",
    "| 1          | Candidato A |Candidato A |Candidato A |Opositor A  |Opositor A |\n",
    "| 2          | Candidato B |Candidato B |Candidato D |Opositor B  |Candidato A|\n",
    "| 3          | Candidato C |Opositor A  |Candidato A |Opositor C  |Candidato B|\n",
    "| 4          | Candidato D |Candidato C |Candidato A |Candidato A |Opositor B |\n",
    "| 5          | Candidato E |Candidato D |Candidato A |Candidato B |Candidato C|\n",
    "| 6          | Opositor A  |Opositor B  |Candidato A |Candidato C |Candidato D|\n",
    "| 7          | Opositor B  |Opositor C  |Candidato A |Opositor D  |Candidato E|\n",
    "| 8          | Opositor C  |Candidato E |Candidato A |Opositor E  |Candidato F|\n",
    "| 9          | Opositor D  |Opositor D  |Candidato A |Candidato D |Opositor A |\n",
    "| 10         | Opositor E  |Opositor E  |Candidato A |Candidato E |Opositor A |\n"
   ]
  },
  {
   "cell_type": "code",
   "execution_count": 5,
   "metadata": {
    "extensions": {
     "jupyter_dashboards": {
      "version": 1,
      "views": {
       "grid_default": {
        "col": 0,
        "height": 22,
        "hidden": false,
        "row": 0,
        "width": 12
       },
       "report_default": {}
      }
     }
    },
    "scrolled": false
   },
   "outputs": [
    {
     "data": {
      "application/vnd.jupyter.widget-view+json": {
       "model_id": "380cacfdf4df47d3a699221800c16963",
       "version_major": 2,
       "version_minor": 0
      },
      "text/plain": [
       "IntText(value=12, description='n. candidatos:')"
      ]
     },
     "metadata": {},
     "output_type": "display_data"
    },
    {
     "data": {
      "application/vnd.jupyter.widget-view+json": {
       "model_id": "563696758bc64ee79f1a658da89b95b5",
       "version_major": 2,
       "version_minor": 0
      },
      "text/plain": [
       "Button(description='Aceptar', style=ButtonStyle(), tooltip='Numero de candidatos')"
      ]
     },
     "metadata": {},
     "output_type": "display_data"
    }
   ],
   "source": [
    "from IPython.display import display\n",
    "from ipywidgets import *\n",
    "import ipywidgets as widgets\n",
    "import operator\n",
    "\n",
    "candidatos = widgets.IntText(\n",
    "    value=12,\n",
    "    description='n. candidatos:',\n",
    "    disabled=False\n",
    ")\n",
    "\n",
    "perfiles = widgets.IntText(\n",
    "    value=5,\n",
    "    description='n. perfiles:',\n",
    "    disabled=False\n",
    ")\n",
    "\n",
    "tab = widgets.Tab()\n",
    "\n",
    "button = widgets.Button(\n",
    "    description='Aceptar',\n",
    "    disabled=False,\n",
    "    button_style='', # 'success', 'info', 'warning', 'danger' or ''\n",
    "    tooltip='Numero de candidatos'   \n",
    ")\n",
    "\n",
    "button2 = widgets.Button(\n",
    "    description='Aceptar',\n",
    "    disabled=False,\n",
    "    button_style='', # 'success', 'info', 'warning', 'danger' or ''\n",
    "    tooltip='Nombre de los candidatos'\n",
    ")\n",
    "\n",
    "button3 = widgets.Button(\n",
    "    description='Aceptar',\n",
    "    disabled=False,\n",
    "    button_style='', # 'success', 'info', 'warning', 'danger' or ''\n",
    "    tooltip='Numero de perfiles'\n",
    ")\n",
    "\n",
    "button4 = widgets.Button(\n",
    "    description='Simular elección',\n",
    "    disabled=False,\n",
    "    button_style='', # 'success', 'info', 'warning', 'danger' or ''\n",
    "    tooltip='Correr el modelo'\n",
    ")\n",
    "\n",
    "def on_button_clicked(b):\n",
    "    b.description = 'Aceptar'\n",
    "    b.disabled = True\n",
    "    \n",
    "    for i in range(candidatos.value):\n",
    "        w1 = widgets.Text(\n",
    "            value=\" \",\n",
    "            min=0,\n",
    "            max=10,\n",
    "            step=1,\n",
    "            description='Nombre:',\n",
    "            disabled=False\n",
    "        )\n",
    "        nom_candidatos.append(w1)\n",
    "        \n",
    "    for i in nom_candidatos:\n",
    "        display(i)\n",
    "        \n",
    "    display(button2)\n",
    "\n",
    "def button2_on_click(b2):\n",
    "        b2.description = 'Aceptar'\n",
    "        b2.disabled = True\n",
    "        \n",
    "        for candidato in nom_candidatos:\n",
    "            nom_candidatos_list.append(candidato.value)\n",
    "        \n",
    "        display(perfiles)\n",
    "        display(button3)\n",
    "\n",
    "        \n",
    "#AGREGAR OPCION NOMBRAR PERFILES\n",
    "def button_prof_on_click(bp):\n",
    "    bp.description = 'aceptar'\n",
    "    \n",
    "def button3_on_click(b3):\n",
    "    n_perfiles = perfiles.value\n",
    "    b3.disabled = True\n",
    "\n",
    "    items = []\n",
    "    \n",
    "    for i in range(n_perfiles):\n",
    "        items.append(widgets.IntText(description='n. votantes'))\n",
    "    \n",
    "        for j in nom_candidatos:\n",
    "            items.append(widgets.Dropdown(options=nom_candidatos_list))\n",
    "                \n",
    "        tab.set_title(i, 'Perfil'+ str(i+1))\n",
    "\n",
    "    n_candidatos = len(nom_candidatos)\n",
    "    children = [widgets.VBox(items[start:start+n_candidatos+1]) for start in range(0, len(items), n_candidatos+1)]\n",
    "\n",
    "    tab.children = children\n",
    "    \n",
    "    display(tab)\n",
    "    display(button4)\n",
    "    \n",
    "def button4_on_click(b4):\n",
    "    b4.disabled = False\n",
    "    \n",
    "    n_perfiles = perfiles.value\n",
    "    resultados = {}\n",
    "    ballot = nom_candidatos_list\n",
    "    \n",
    "    #Initialize dictionary with 0 votes for each candidate\n",
    "    [resultados.update({candidato:0}) for candidato in ballot]\n",
    "    \n",
    "    for i in range(n_perfiles):\n",
    "        votos = tab.children[i].children[0].value\n",
    "        \n",
    "        for j in range(4):\n",
    "            if j > len(ballot) or len(ballot) < 6:\n",
    "                print('Insuficiente número de candidatos')\n",
    "                \n",
    "            candidato = tab.children[i].children[j + 1].value\n",
    "            resultados[candidato] = resultados[candidato] + votos\n",
    "            \n",
    "    ganadores = sorted(resultados.items(), key=operator.itemgetter(1), reverse = True)[:7] \n",
    "    \n",
    "    print('1er VP: '+str(ganadores[0][0]) + ' con ' + str(ganadores[0][1]) + ' votos')\n",
    "    print('2do VP: '+str(ganadores[1][0]) + ' con ' + str(ganadores[1][1]) + ' votos')\n",
    "    print('3er VP: '+str(ganadores[2][0]) + ' con ' + str(ganadores[2][1]) + ' votos')\n",
    "    print('4to VP: '+str(ganadores[3][0]) + ' con ' + str(ganadores[3][1]) + ' votos')\n",
    "    print('5to VP: '+str(ganadores[4][0]) + ' con ' + str(ganadores[4][1]) + ' votos')\n",
    "    print('6to VP: '+str(ganadores[5][0]) + ' con ' + str(ganadores[5][1]) + ' votos')\n",
    "\n",
    "    print(resultados)\n",
    "\n",
    "nom_candidatos = []\n",
    "nom_candidatos_list = []\n",
    "\n",
    "display(candidatos, button)\n",
    "button.on_click(on_button_clicked)\n",
    "button2.on_click(button2_on_click)\n",
    "button3.on_click(button3_on_click)\n",
    "button4.on_click(button4_on_click)"
   ]
  },
  {
   "cell_type": "code",
   "execution_count": null,
   "metadata": {},
   "outputs": [],
   "source": []
  }
 ],
 "metadata": {
  "extensions": {
   "jupyter_dashboards": {
    "activeView": "grid_default",
    "version": 1,
    "views": {
     "grid_default": {
      "cellMargin": 10,
      "defaultCellHeight": 20,
      "maxColumns": 12,
      "name": "grid",
      "type": "grid"
     },
     "report_default": {
      "name": "report",
      "type": "report"
     }
    }
   }
  },
  "kernelspec": {
   "display_name": "Python 3",
   "language": "python",
   "name": "python3"
  },
  "language_info": {
   "codemirror_mode": {
    "name": "ipython",
    "version": 3
   },
   "file_extension": ".py",
   "mimetype": "text/x-python",
   "name": "python",
   "nbconvert_exporter": "python",
   "pygments_lexer": "ipython3",
   "version": "3.6.5"
  },
  "widgets": {
   "application/vnd.jupyter.widget-state+json": {
    "state": {
     "013b7322697c4a01925ba255ca529ff0": {
      "model_module": "@jupyter-widgets/controls",
      "model_module_version": "1.2.0",
      "model_name": "TabModel",
      "state": {
       "layout": "IPY_MODEL_c6e4d58401424edf9d6dedd0b3e447b3"
      }
     },
     "09658e6580754a82b2ef76702627322d": {
      "model_module": "@jupyter-widgets/controls",
      "model_module_version": "1.2.0",
      "model_name": "DescriptionStyleModel",
      "state": {
       "description_width": ""
      }
     },
     "0bbf35b69372487c9e8c7d58cf24afab": {
      "model_module": "@jupyter-widgets/controls",
      "model_module_version": "1.2.0",
      "model_name": "DescriptionStyleModel",
      "state": {
       "description_width": ""
      }
     },
     "0f5ade2a7ca142e6a5095f78b82507c5": {
      "model_module": "@jupyter-widgets/base",
      "model_module_version": "1.0.0",
      "model_name": "LayoutModel",
      "state": {}
     },
     "1208433918fa497a9ed5a33421db551b": {
      "model_module": "@jupyter-widgets/base",
      "model_module_version": "1.0.0",
      "model_name": "LayoutModel",
      "state": {}
     },
     "1ce8f55f10b24aafaa757bc40c4d3b02": {
      "model_module": "@jupyter-widgets/controls",
      "model_module_version": "1.2.0",
      "model_name": "IntTextModel",
      "state": {
       "description": "n. perfiles:",
       "layout": "IPY_MODEL_ea8665b5c0004f0f9246a57e0877400a",
       "step": 1,
       "style": "IPY_MODEL_e96360f4a436485982dc83fbb112b130",
       "value": 5
      }
     },
     "1fbca936ea354a77b2e23bd250c7118e": {
      "model_module": "@jupyter-widgets/controls",
      "model_module_version": "1.2.0",
      "model_name": "DescriptionStyleModel",
      "state": {
       "description_width": ""
      }
     },
     "27eba4d2cf7347e19088ad2a2076d26a": {
      "model_module": "@jupyter-widgets/base",
      "model_module_version": "1.0.0",
      "model_name": "LayoutModel",
      "state": {}
     },
     "2883d51ce35e4911bd41a225e3be057a": {
      "model_module": "@jupyter-widgets/base",
      "model_module_version": "1.0.0",
      "model_name": "LayoutModel",
      "state": {}
     },
     "2af8238202dc479388a8f08430e26621": {
      "model_module": "@jupyter-widgets/controls",
      "model_module_version": "1.2.0",
      "model_name": "ButtonStyleModel",
      "state": {}
     },
     "2f2df5b78c474cbeb760bf84dcd2e612": {
      "model_module": "@jupyter-widgets/base",
      "model_module_version": "1.0.0",
      "model_name": "LayoutModel",
      "state": {}
     },
     "30475bea4f74487393b62d6cff0e7f84": {
      "model_module": "@jupyter-widgets/base",
      "model_module_version": "1.0.0",
      "model_name": "LayoutModel",
      "state": {}
     },
     "3739c381ee754ab7b6cfac3cb6b46560": {
      "model_module": "@jupyter-widgets/base",
      "model_module_version": "1.0.0",
      "model_name": "LayoutModel",
      "state": {}
     },
     "3a3b3173f6774377b9e47867f521ec24": {
      "model_module": "@jupyter-widgets/controls",
      "model_module_version": "1.2.0",
      "model_name": "ButtonStyleModel",
      "state": {}
     },
     "3daa85627d1e48ba8f7b61b79167c1d5": {
      "model_module": "@jupyter-widgets/controls",
      "model_module_version": "1.2.0",
      "model_name": "ButtonModel",
      "state": {
       "description": "Simular elección",
       "layout": "IPY_MODEL_1208433918fa497a9ed5a33421db551b",
       "style": "IPY_MODEL_46f4e96077ff4f589e5ace8c53bb34eb",
       "tooltip": "Correr el modelo"
      }
     },
     "46963ffd08b8403e86866da46c1eb8b8": {
      "model_module": "@jupyter-widgets/controls",
      "model_module_version": "1.2.0",
      "model_name": "ButtonModel",
      "state": {
       "description": "Aceptar",
       "layout": "IPY_MODEL_7f71c78d9d60404dacf92ca084dd9ebc",
       "style": "IPY_MODEL_e666936b0f6249df8fc6e5a410bda7d5",
       "tooltip": "Nombre de los candidatos"
      }
     },
     "46f4e96077ff4f589e5ace8c53bb34eb": {
      "model_module": "@jupyter-widgets/controls",
      "model_module_version": "1.2.0",
      "model_name": "ButtonStyleModel",
      "state": {}
     },
     "484658844a3d4be79f8cc96a1b24d2cc": {
      "model_module": "@jupyter-widgets/controls",
      "model_module_version": "1.2.0",
      "model_name": "IntTextModel",
      "state": {
       "description": "n. candidatos:",
       "layout": "IPY_MODEL_8f20310492914771881bfa7cdbbb00fa",
       "step": 1,
       "style": "IPY_MODEL_cade531883f9424394198a1941d29e2c",
       "value": 12
      }
     },
     "527ba7128a5e4b4cb159477c03503d7c": {
      "model_module": "@jupyter-widgets/controls",
      "model_module_version": "1.2.0",
      "model_name": "IntTextModel",
      "state": {
       "description": "n. perfiles:",
       "layout": "IPY_MODEL_e097c24a28eb444daac4e6597c324927",
       "step": 1,
       "style": "IPY_MODEL_1fbca936ea354a77b2e23bd250c7118e",
       "value": 5
      }
     },
     "54bbed4e3c5049c8ac4388b9fc2fca51": {
      "model_module": "@jupyter-widgets/controls",
      "model_module_version": "1.2.0",
      "model_name": "ButtonStyleModel",
      "state": {}
     },
     "58d2528792c848c8b4458481b1464bba": {
      "model_module": "@jupyter-widgets/base",
      "model_module_version": "1.0.0",
      "model_name": "LayoutModel",
      "state": {}
     },
     "5daeff6ccb5240a591380dd6d038975e": {
      "model_module": "@jupyter-widgets/base",
      "model_module_version": "1.0.0",
      "model_name": "LayoutModel",
      "state": {}
     },
     "6243d57377ce40eab49f13e572777f9f": {
      "model_module": "@jupyter-widgets/controls",
      "model_module_version": "1.2.0",
      "model_name": "ButtonStyleModel",
      "state": {}
     },
     "6391b8f0496b4db4a00496e5a0271303": {
      "model_module": "@jupyter-widgets/base",
      "model_module_version": "1.0.0",
      "model_name": "LayoutModel",
      "state": {}
     },
     "640bb49391a44bee904c605075c60b68": {
      "model_module": "@jupyter-widgets/controls",
      "model_module_version": "1.2.0",
      "model_name": "ButtonModel",
      "state": {
       "description": "Aceptar",
       "layout": "IPY_MODEL_ceba9b6c8af341a3abb94920535d17e3",
       "style": "IPY_MODEL_7846b3fc999440caa793ced488dbae33",
       "tooltip": "Numero de perfiles"
      }
     },
     "6752794affbe451aa52bbcf1027b63b7": {
      "model_module": "@jupyter-widgets/controls",
      "model_module_version": "1.2.0",
      "model_name": "IntTextModel",
      "state": {
       "description": "n. perfiles:",
       "layout": "IPY_MODEL_9439d92c150e4fe49235a0b707d9a75e",
       "step": 1,
       "style": "IPY_MODEL_6e1f210c8ad6447ab5ff61295a984ae3",
       "value": 5
      }
     },
     "6a15fbb527b3415587bf10002fe55d26": {
      "model_module": "@jupyter-widgets/base",
      "model_module_version": "1.0.0",
      "model_name": "LayoutModel",
      "state": {}
     },
     "6e1f210c8ad6447ab5ff61295a984ae3": {
      "model_module": "@jupyter-widgets/controls",
      "model_module_version": "1.2.0",
      "model_name": "DescriptionStyleModel",
      "state": {
       "description_width": ""
      }
     },
     "75968cf8a73b44c89180a18666e75b69": {
      "model_module": "@jupyter-widgets/controls",
      "model_module_version": "1.2.0",
      "model_name": "IntTextModel",
      "state": {
       "description": "n. candidatos:",
       "layout": "IPY_MODEL_6a15fbb527b3415587bf10002fe55d26",
       "step": 1,
       "style": "IPY_MODEL_0bbf35b69372487c9e8c7d58cf24afab",
       "value": 12
      }
     },
     "76d5efecb5cc4877ad7159a6ea5b80ce": {
      "model_module": "@jupyter-widgets/controls",
      "model_module_version": "1.2.0",
      "model_name": "IntTextModel",
      "state": {
       "description": "n. candidatos:",
       "layout": "IPY_MODEL_2883d51ce35e4911bd41a225e3be057a",
       "step": 1,
       "style": "IPY_MODEL_09658e6580754a82b2ef76702627322d",
       "value": 12
      }
     },
     "7846b3fc999440caa793ced488dbae33": {
      "model_module": "@jupyter-widgets/controls",
      "model_module_version": "1.2.0",
      "model_name": "ButtonStyleModel",
      "state": {}
     },
     "7a6e8a21169a47f9ac2ddc02db141b4b": {
      "model_module": "@jupyter-widgets/controls",
      "model_module_version": "1.2.0",
      "model_name": "ButtonStyleModel",
      "state": {}
     },
     "7ab3adfb30564e87a68984a4e60c61ff": {
      "model_module": "@jupyter-widgets/controls",
      "model_module_version": "1.2.0",
      "model_name": "ButtonModel",
      "state": {
       "description": "Aceptar",
       "layout": "IPY_MODEL_30475bea4f74487393b62d6cff0e7f84",
       "style": "IPY_MODEL_abb356ccac7442aeb5c877267fded642",
       "tooltip": "Numero de candidatos"
      }
     },
     "7ef3d60de6434da88c5d67c708299fc5": {
      "model_module": "@jupyter-widgets/base",
      "model_module_version": "1.0.0",
      "model_name": "LayoutModel",
      "state": {}
     },
     "7f71c78d9d60404dacf92ca084dd9ebc": {
      "model_module": "@jupyter-widgets/base",
      "model_module_version": "1.0.0",
      "model_name": "LayoutModel",
      "state": {}
     },
     "86622949e7c542fa8026ea75f9efabe0": {
      "model_module": "@jupyter-widgets/base",
      "model_module_version": "1.0.0",
      "model_name": "LayoutModel",
      "state": {}
     },
     "8f20310492914771881bfa7cdbbb00fa": {
      "model_module": "@jupyter-widgets/base",
      "model_module_version": "1.0.0",
      "model_name": "LayoutModel",
      "state": {}
     },
     "9439d92c150e4fe49235a0b707d9a75e": {
      "model_module": "@jupyter-widgets/base",
      "model_module_version": "1.0.0",
      "model_name": "LayoutModel",
      "state": {}
     },
     "9923d7c9164c4f94bc9d78132728ca09": {
      "model_module": "@jupyter-widgets/controls",
      "model_module_version": "1.2.0",
      "model_name": "ButtonModel",
      "state": {
       "description": "Simular elección",
       "layout": "IPY_MODEL_6391b8f0496b4db4a00496e5a0271303",
       "style": "IPY_MODEL_a197aedee86448719acdf19f1ba8934d",
       "tooltip": "Correr el modelo"
      }
     },
     "a197aedee86448719acdf19f1ba8934d": {
      "model_module": "@jupyter-widgets/controls",
      "model_module_version": "1.2.0",
      "model_name": "ButtonStyleModel",
      "state": {}
     },
     "a2707e9f54844ce7a8b964bb7d2faa9e": {
      "model_module": "@jupyter-widgets/controls",
      "model_module_version": "1.2.0",
      "model_name": "TabModel",
      "state": {
       "layout": "IPY_MODEL_2f2df5b78c474cbeb760bf84dcd2e612"
      }
     },
     "a80645aacc59429582bc9af60579a9dc": {
      "model_module": "@jupyter-widgets/controls",
      "model_module_version": "1.2.0",
      "model_name": "ButtonStyleModel",
      "state": {}
     },
     "ab3f04cdaf49415ba3a6a13fd762df54": {
      "model_module": "@jupyter-widgets/controls",
      "model_module_version": "1.2.0",
      "model_name": "ButtonModel",
      "state": {
       "description": "Aceptar",
       "layout": "IPY_MODEL_0f5ade2a7ca142e6a5095f78b82507c5",
       "style": "IPY_MODEL_54bbed4e3c5049c8ac4388b9fc2fca51",
       "tooltip": "Nombre de los candidatos"
      }
     },
     "abb356ccac7442aeb5c877267fded642": {
      "model_module": "@jupyter-widgets/controls",
      "model_module_version": "1.2.0",
      "model_name": "ButtonStyleModel",
      "state": {}
     },
     "b4555adf8d8c4af9b9b17601ad905d84": {
      "model_module": "@jupyter-widgets/controls",
      "model_module_version": "1.2.0",
      "model_name": "ButtonModel",
      "state": {
       "description": "Simular elección",
       "layout": "IPY_MODEL_86622949e7c542fa8026ea75f9efabe0",
       "style": "IPY_MODEL_2af8238202dc479388a8f08430e26621",
       "tooltip": "Correr el modelo"
      }
     },
     "bc75b44067aa498c93dbef891c2b92ab": {
      "model_module": "@jupyter-widgets/controls",
      "model_module_version": "1.2.0",
      "model_name": "ButtonStyleModel",
      "state": {}
     },
     "c1a985aa6b2e41f3a31e0e57f54d28fe": {
      "model_module": "@jupyter-widgets/controls",
      "model_module_version": "1.2.0",
      "model_name": "ButtonModel",
      "state": {
       "description": "Aceptar",
       "layout": "IPY_MODEL_58d2528792c848c8b4458481b1464bba",
       "style": "IPY_MODEL_a80645aacc59429582bc9af60579a9dc",
       "tooltip": "Numero de candidatos"
      }
     },
     "c32b4cf0dda349f1b93a5c49ee7f75e7": {
      "model_module": "@jupyter-widgets/base",
      "model_module_version": "1.0.0",
      "model_name": "LayoutModel",
      "state": {}
     },
     "c6e4d58401424edf9d6dedd0b3e447b3": {
      "model_module": "@jupyter-widgets/base",
      "model_module_version": "1.0.0",
      "model_name": "LayoutModel",
      "state": {}
     },
     "cade531883f9424394198a1941d29e2c": {
      "model_module": "@jupyter-widgets/controls",
      "model_module_version": "1.2.0",
      "model_name": "DescriptionStyleModel",
      "state": {
       "description_width": ""
      }
     },
     "ceba9b6c8af341a3abb94920535d17e3": {
      "model_module": "@jupyter-widgets/base",
      "model_module_version": "1.0.0",
      "model_name": "LayoutModel",
      "state": {}
     },
     "d0d577d41c674bffb1ef6ee06460818c": {
      "model_module": "@jupyter-widgets/controls",
      "model_module_version": "1.2.0",
      "model_name": "ButtonModel",
      "state": {
       "description": "Aceptar",
       "layout": "IPY_MODEL_5daeff6ccb5240a591380dd6d038975e",
       "style": "IPY_MODEL_6243d57377ce40eab49f13e572777f9f",
       "tooltip": "Numero de perfiles"
      }
     },
     "d4db0218d0c74be880abb09779703578": {
      "model_module": "@jupyter-widgets/controls",
      "model_module_version": "1.2.0",
      "model_name": "ButtonModel",
      "state": {
       "description": "Aceptar",
       "layout": "IPY_MODEL_7ef3d60de6434da88c5d67c708299fc5",
       "style": "IPY_MODEL_3a3b3173f6774377b9e47867f521ec24",
       "tooltip": "Numero de perfiles"
      }
     },
     "d4e4e45d94554e9db82ce9f6e2aa904a": {
      "model_module": "@jupyter-widgets/controls",
      "model_module_version": "1.2.0",
      "model_name": "TabModel",
      "state": {
       "layout": "IPY_MODEL_3739c381ee754ab7b6cfac3cb6b46560"
      }
     },
     "dd74b598d48749fa8125993c02d0492c": {
      "model_module": "@jupyter-widgets/controls",
      "model_module_version": "1.2.0",
      "model_name": "ButtonModel",
      "state": {
       "description": "Aceptar",
       "layout": "IPY_MODEL_c32b4cf0dda349f1b93a5c49ee7f75e7",
       "style": "IPY_MODEL_7a6e8a21169a47f9ac2ddc02db141b4b",
       "tooltip": "Nombre de los candidatos"
      }
     },
     "e097c24a28eb444daac4e6597c324927": {
      "model_module": "@jupyter-widgets/base",
      "model_module_version": "1.0.0",
      "model_name": "LayoutModel",
      "state": {}
     },
     "e666936b0f6249df8fc6e5a410bda7d5": {
      "model_module": "@jupyter-widgets/controls",
      "model_module_version": "1.2.0",
      "model_name": "ButtonStyleModel",
      "state": {}
     },
     "e96360f4a436485982dc83fbb112b130": {
      "model_module": "@jupyter-widgets/controls",
      "model_module_version": "1.2.0",
      "model_name": "DescriptionStyleModel",
      "state": {
       "description_width": ""
      }
     },
     "ea8665b5c0004f0f9246a57e0877400a": {
      "model_module": "@jupyter-widgets/base",
      "model_module_version": "1.0.0",
      "model_name": "LayoutModel",
      "state": {}
     },
     "f59337e065144ce5bfb1b2bc0cc19ed7": {
      "model_module": "@jupyter-widgets/controls",
      "model_module_version": "1.2.0",
      "model_name": "ButtonModel",
      "state": {
       "description": "Aceptar",
       "layout": "IPY_MODEL_27eba4d2cf7347e19088ad2a2076d26a",
       "style": "IPY_MODEL_bc75b44067aa498c93dbef891c2b92ab",
       "tooltip": "Numero de candidatos"
      }
     }
    },
    "version_major": 2,
    "version_minor": 0
   }
  }
 },
 "nbformat": 4,
 "nbformat_minor": 2
}
