{
 "cells": [
  {
   "cell_type": "markdown",
   "metadata": {},
   "source": [
    "# Lista vicepresidentes\n",
    "\n",
    "La elección interna de vicepresidentes permite a cada votante marcar **cuatro distintas** opciones de preferencia. Del total de votos, las seis mayorías son electos como vicepresidente.\n",
    "\n",
    "Encontrar el número óptimo de candidatos que nuestra lista debe presentar depende:\n",
    "\n",
    "1. Cantidad de votantes\n",
    "2. Candidatos lista opositora\n",
    "3. Preferencia votantes\n",
    "\n",
    "La elección de candidatos es fundamental ya que una estrategia equivocada puede generar resultados no deseados.\n",
    "\n",
    "A modo de ejemplo, consideramos el siguiente escenario:\n",
    "\n",
    "1. Universo de 5 votantes\n",
    "2. Perfiles de preferencia:\n",
    "\n",
    "|Preferencias| Perfil 1    | Perfil 2   | Perfil 3   | Perfil 4   | Perfil 5  |\n",
    "|:----------:|:-----------:|:----------:|:----------:|:----------:|:---------:|\n",
    "| 1          | Candidato A |Candidato A |Candidato A |Opositor A  |Opositor A |\n",
    "| 2          | Candidato B |Candidato B |Candidato D |Opositor B  |Candidato A|\n",
    "| 3          | Candidato C |Opositor A  |Candidato A |Opositor C  |Candidato B|\n",
    "| 4          | Candidato D |Candidato C |Candidato A |Candidato A |Opositor B |\n",
    "| 5          | Candidato E |Candidato D |Candidato A |Candidato B |Candidato C|\n",
    "| 6          | Opositor A  |Opositor B  |Candidato A |Candidato C |Candidato D|\n",
    "| 7          | Opositor B  |Opositor C  |Candidato A |Opositor D  |Candidato E|\n",
    "| 8          | Opositor C  |Candidato E |Candidato A |Opositor E  |Candidato F|\n",
    "| 9          | Opositor D  |Opositor D  |Candidato A |Candidato D |Opositor A |\n",
    "| 10         | Opositor E  |Opositor E  |Candidato A |Candidato E |Opositor A |\n",
    "\n"
   ]
  },
  {
   "cell_type": "code",
   "execution_count": 2,
   "metadata": {},
   "outputs": [
    {
     "data": {
      "application/vnd.jupyter.widget-view+json": {
       "model_id": "1ad6f7719fa547669d6637e606a3d850",
       "version_major": 2,
       "version_minor": 0
      },
      "text/plain": [
       "IntText(value=12, description='n. candidatos:')"
      ]
     },
     "metadata": {},
     "output_type": "display_data"
    },
    {
     "data": {
      "application/vnd.jupyter.widget-view+json": {
       "model_id": "4a47b195010d41e6b3966249c7576d14",
       "version_major": 2,
       "version_minor": 0
      },
      "text/plain": [
       "Button(description='Aceptar', style=ButtonStyle(), tooltip='Numero de candidatos')"
      ]
     },
     "metadata": {},
     "output_type": "display_data"
    }
   ],
   "source": [
    "from IPython.display import display\n",
    "from ipywidgets import *\n",
    "import ipywidgets as widgets\n",
    "import operator\n",
    "\n",
    "candidatos = widgets.IntText(\n",
    "    value=12,\n",
    "    description='n. candidatos:',\n",
    "    disabled=False\n",
    ")\n",
    "\n",
    "perfiles = widgets.IntText(\n",
    "    value=5,\n",
    "    description='n. perfiles:',\n",
    "    disabled=False\n",
    ")\n",
    "\n",
    "tab = widgets.Tab()\n",
    "\n",
    "button = widgets.Button(\n",
    "    description='Aceptar',\n",
    "    disabled=False,\n",
    "    button_style='', # 'success', 'info', 'warning', 'danger' or ''\n",
    "    tooltip='Numero de candidatos'   \n",
    ")\n",
    "\n",
    "button2 = widgets.Button(\n",
    "    description='Aceptar',\n",
    "    disabled=False,\n",
    "    button_style='', # 'success', 'info', 'warning', 'danger' or ''\n",
    "    tooltip='Nombre de los candidatos'\n",
    ")\n",
    "\n",
    "button3 = widgets.Button(\n",
    "    description='Aceptar',\n",
    "    disabled=False,\n",
    "    button_style='', # 'success', 'info', 'warning', 'danger' or ''\n",
    "    tooltip='Numero de perfiles'\n",
    ")\n",
    "\n",
    "button4 = widgets.Button(\n",
    "    description='Simular elección',\n",
    "    disabled=False,\n",
    "    button_style='', # 'success', 'info', 'warning', 'danger' or ''\n",
    "    tooltip='Correr el modelo'\n",
    ")\n",
    "\n",
    "def on_button_clicked(b):\n",
    "    b.description = 'Aceptar'\n",
    "    b.disabled = True\n",
    "    \n",
    "    for i in range(candidatos.value):\n",
    "        w1 = widgets.Text(\n",
    "            value=\" \",\n",
    "            min=0,\n",
    "            max=10,\n",
    "            step=1,\n",
    "            description='Nombre:',\n",
    "            disabled=False\n",
    "        )\n",
    "        nom_candidatos.append(w1)\n",
    "        \n",
    "    for i in nom_candidatos:\n",
    "        display(i)\n",
    "        \n",
    "    display(button2)\n",
    "\n",
    "def button2_on_click(b2):\n",
    "        b2.description = 'Aceptar'\n",
    "        b2.disabled = True\n",
    "        \n",
    "        for candidato in nom_candidatos:\n",
    "            nom_candidatos_list.append(candidato.value)\n",
    "        \n",
    "        display(perfiles)\n",
    "        display(button3)\n",
    "\n",
    "        \n",
    "#AGREGAR OPCION NOMBRAR PERFILES\n",
    "def button_prof_on_click(bp):\n",
    "    bp.description = 'aceptar'\n",
    "    \n",
    "def button3_on_click(b3):\n",
    "    n_perfiles = perfiles.value\n",
    "    b3.disabled = True\n",
    "\n",
    "    items = []\n",
    "    \n",
    "    for i in range(n_perfiles):\n",
    "        items.append(widgets.IntText(description='n. votantes'))\n",
    "    \n",
    "        for j in nom_candidatos:\n",
    "            items.append(widgets.Dropdown(options=nom_candidatos_list))\n",
    "                \n",
    "        tab.set_title(i, 'Perfil'+ str(i+1))\n",
    "\n",
    "    n_candidatos = len(nom_candidatos)\n",
    "    children = [widgets.VBox(items[start:start+n_candidatos+1]) for start in range(0, len(items), n_candidatos+1)]\n",
    "\n",
    "    tab.children = children\n",
    "    \n",
    "    display(tab)\n",
    "    display(button4)\n",
    "    \n",
    "def button4_on_click(b4):\n",
    "    b4.disabled = False\n",
    "    \n",
    "    n_perfiles = perfiles.value\n",
    "    resultados = {}\n",
    "    ballot = nom_candidatos_list\n",
    "    \n",
    "    #Initialize dictionary with 0 votes for each candidate\n",
    "    [resultados.update({candidato:0}) for candidato in ballot]\n",
    "    \n",
    "    for i in range(n_perfiles):\n",
    "        votos = tab.children[i].children[0].value\n",
    "        \n",
    "        for j in range(4):\n",
    "            if j > len(ballot) or len(ballot) < 6:\n",
    "                print('Insuficiente número de candidatos')\n",
    "                \n",
    "            candidato = tab.children[i].children[j + 1].value\n",
    "            resultados[candidato] = resultados[candidato] + votos\n",
    "            \n",
    "    ganadores = sorted(resultados.items(), key=operator.itemgetter(1), reverse = True)[:7] \n",
    "    \n",
    "    print('1er VP: '+str(ganadores[0][0]) + ' con ' + str(ganadores[0][1]) + ' votos')\n",
    "    print('2do VP: '+str(ganadores[1][0]) + ' con ' + str(ganadores[1][1]) + ' votos')\n",
    "    print('3er VP: '+str(ganadores[2][0]) + ' con ' + str(ganadores[2][1]) + ' votos')\n",
    "    print('4to VP: '+str(ganadores[3][0]) + ' con ' + str(ganadores[3][1]) + ' votos')\n",
    "    print('5to VP: '+str(ganadores[4][0]) + ' con ' + str(ganadores[4][1]) + ' votos')\n",
    "    print('6to VP: '+str(ganadores[5][0]) + ' con ' + str(ganadores[5][1]) + ' votos')\n",
    "\n",
    "    print(resultados)\n",
    "\n",
    "nom_candidatos = []\n",
    "nom_candidatos_list = []\n",
    "\n",
    "display(candidatos, button)\n",
    "button.on_click(on_button_clicked)\n",
    "button2.on_click(button2_on_click)\n",
    "button3.on_click(button3_on_click)\n",
    "button4.on_click(button4_on_click)"
   ]
  },
  {
   "cell_type": "code",
   "execution_count": null,
   "metadata": {},
   "outputs": [],
   "source": []
  }
 ],
 "metadata": {
  "kernelspec": {
   "display_name": "Python 3",
   "language": "python",
   "name": "python3"
  },
  "language_info": {
   "codemirror_mode": {
    "name": "ipython",
    "version": 3
   },
   "file_extension": ".py",
   "mimetype": "text/x-python",
   "name": "python",
   "nbconvert_exporter": "python",
   "pygments_lexer": "ipython3",
   "version": "3.6.5"
  },
  "widgets": {
   "application/vnd.jupyter.widget-state+json": {
    "state": {
     "137ffa3869074917a59f8ef32b765640": {
      "model_module": "@jupyter-widgets/controls",
      "model_module_version": "1.2.0",
      "model_name": "DescriptionStyleModel",
      "state": {
       "description_width": ""
      }
     },
     "1ad6f7719fa547669d6637e606a3d850": {
      "model_module": "@jupyter-widgets/controls",
      "model_module_version": "1.2.0",
      "model_name": "IntTextModel",
      "state": {
       "description": "n. candidatos:",
       "layout": "IPY_MODEL_6f9ab3d283454f639a2b9804c17d9d2b",
       "step": 1,
       "style": "IPY_MODEL_b3a6cc94ec0943d0b17f61cb74a2ea5b",
       "value": 12
      }
     },
     "1d06c4a6bf29416eb470bbf644d29e57": {
      "model_module": "@jupyter-widgets/controls",
      "model_module_version": "1.2.0",
      "model_name": "ButtonModel",
      "state": {
       "description": "Aceptar",
       "layout": "IPY_MODEL_29d3fd14ab8746d79a333e7c7d162bde",
       "style": "IPY_MODEL_db754ca381c04854b33ca2d2ba2b4a5c",
       "tooltip": "Numero de perfiles"
      }
     },
     "29d3fd14ab8746d79a333e7c7d162bde": {
      "model_module": "@jupyter-widgets/base",
      "model_module_version": "1.0.0",
      "model_name": "LayoutModel",
      "state": {}
     },
     "4a47b195010d41e6b3966249c7576d14": {
      "model_module": "@jupyter-widgets/controls",
      "model_module_version": "1.2.0",
      "model_name": "ButtonModel",
      "state": {
       "description": "Aceptar",
       "layout": "IPY_MODEL_510888a199b54fc89fdf3ea0f029aef6",
       "style": "IPY_MODEL_de2462f790b24838af92a78a675790d4",
       "tooltip": "Numero de candidatos"
      }
     },
     "510888a199b54fc89fdf3ea0f029aef6": {
      "model_module": "@jupyter-widgets/base",
      "model_module_version": "1.0.0",
      "model_name": "LayoutModel",
      "state": {}
     },
     "5e7c0fc942594193ad908ff04c950ab0": {
      "model_module": "@jupyter-widgets/base",
      "model_module_version": "1.0.0",
      "model_name": "LayoutModel",
      "state": {}
     },
     "6dd89dac0fa046caa61c4f322ccf1a3f": {
      "model_module": "@jupyter-widgets/controls",
      "model_module_version": "1.2.0",
      "model_name": "ButtonModel",
      "state": {
       "description": "Aceptar",
       "layout": "IPY_MODEL_be4ed0816b1c4d1f8b8dd32e95a502b9",
       "style": "IPY_MODEL_fbbde94315ae4c6394c5c146db2acaa2",
       "tooltip": "Nombre de los candidatos"
      }
     },
     "6f9ab3d283454f639a2b9804c17d9d2b": {
      "model_module": "@jupyter-widgets/base",
      "model_module_version": "1.0.0",
      "model_name": "LayoutModel",
      "state": {}
     },
     "b3a6cc94ec0943d0b17f61cb74a2ea5b": {
      "model_module": "@jupyter-widgets/controls",
      "model_module_version": "1.2.0",
      "model_name": "DescriptionStyleModel",
      "state": {
       "description_width": ""
      }
     },
     "be4ed0816b1c4d1f8b8dd32e95a502b9": {
      "model_module": "@jupyter-widgets/base",
      "model_module_version": "1.0.0",
      "model_name": "LayoutModel",
      "state": {}
     },
     "c28934d42f8648ceaaab48b903ba94c7": {
      "model_module": "@jupyter-widgets/controls",
      "model_module_version": "1.2.0",
      "model_name": "ButtonStyleModel",
      "state": {}
     },
     "c8b02082861942b1afa56f4211654ed6": {
      "model_module": "@jupyter-widgets/base",
      "model_module_version": "1.0.0",
      "model_name": "LayoutModel",
      "state": {}
     },
     "cecd9567fe414fd690d35d695787ec77": {
      "model_module": "@jupyter-widgets/controls",
      "model_module_version": "1.2.0",
      "model_name": "TabModel",
      "state": {
       "layout": "IPY_MODEL_5e7c0fc942594193ad908ff04c950ab0"
      }
     },
     "d181736c3d9d4b5ba0d6fc3a13c55853": {
      "model_module": "@jupyter-widgets/base",
      "model_module_version": "1.0.0",
      "model_name": "LayoutModel",
      "state": {}
     },
     "db754ca381c04854b33ca2d2ba2b4a5c": {
      "model_module": "@jupyter-widgets/controls",
      "model_module_version": "1.2.0",
      "model_name": "ButtonStyleModel",
      "state": {}
     },
     "de2462f790b24838af92a78a675790d4": {
      "model_module": "@jupyter-widgets/controls",
      "model_module_version": "1.2.0",
      "model_name": "ButtonStyleModel",
      "state": {}
     },
     "e33d03ee5ce24a21a32ab946f3804a8d": {
      "model_module": "@jupyter-widgets/controls",
      "model_module_version": "1.2.0",
      "model_name": "ButtonModel",
      "state": {
       "description": "Simular elección",
       "layout": "IPY_MODEL_d181736c3d9d4b5ba0d6fc3a13c55853",
       "style": "IPY_MODEL_c28934d42f8648ceaaab48b903ba94c7",
       "tooltip": "Correr el modelo"
      }
     },
     "fbbde94315ae4c6394c5c146db2acaa2": {
      "model_module": "@jupyter-widgets/controls",
      "model_module_version": "1.2.0",
      "model_name": "ButtonStyleModel",
      "state": {}
     },
     "fd2b8a6044d8430aa44e65dfa917defa": {
      "model_module": "@jupyter-widgets/controls",
      "model_module_version": "1.2.0",
      "model_name": "IntTextModel",
      "state": {
       "description": "n. perfiles:",
       "layout": "IPY_MODEL_c8b02082861942b1afa56f4211654ed6",
       "step": 1,
       "style": "IPY_MODEL_137ffa3869074917a59f8ef32b765640",
       "value": 5
      }
     }
    },
    "version_major": 2,
    "version_minor": 0
   }
  }
 },
 "nbformat": 4,
 "nbformat_minor": 2
}
