{
 "cells": [
  {
   "cell_type": "markdown",
   "metadata": {
    "extensions": {
     "jupyter_dashboards": {
      "version": 1,
      "views": {
       "grid_default": {
        "col": 0,
        "height": 22,
        "hidden": false,
        "row": 22,
        "width": 12
       },
       "report_default": {}
      }
     }
    }
   },
   "source": [
    "# Lista vicepresidentes\n",
    "\n",
    "La elección interna de vicepresidentes permite a cada votante marcar **cuatro distintas** opciones de preferencia. Del total de votos, las seis mayorías son electos como vicepresidente.\n",
    "\n",
    "Encontrar el número óptimo de candidatos que nuestra lista debe presentar depende:\n",
    "\n",
    "1. Cantidad de votantes\n",
    "2. Candidatos lista opositora\n",
    "3. Preferencia votantes\n",
    "\n",
    "La elección de candidatos es fundamental ya que una estrategia equivocada puede generar resultados no deseados.\n",
    "\n",
    "A modo de ejemplo, consideramos el siguiente escenario:\n",
    "\n",
    "1. Universo de 5 votantes\n",
    "2. Perfiles de preferencia:\n",
    "\n",
    "|Preferencias| Perfil 1    | Perfil 2   | Perfil 3   | Perfil 4   | Perfil 5  |\n",
    "|:----------:|:-----------:|:----------:|:----------:|:----------:|:---------:|\n",
    "| 1          | Candidato A |Candidato A |Candidato A |Opositor A  |Opositor A |\n",
    "| 2          | Candidato B |Candidato B |Candidato D |Opositor B  |Candidato A|\n",
    "| 3          | Candidato C |Opositor A  |Candidato A |Opositor C  |Candidato B|\n",
    "| 4          | Candidato D |Candidato C |Candidato A |Candidato A |Opositor B |\n",
    "| 5          | Candidato E |Candidato D |Candidato A |Candidato B |Candidato C|\n",
    "| 6          | Opositor A  |Opositor B  |Candidato A |Candidato C |Candidato D|\n",
    "| 7          | Opositor B  |Opositor C  |Candidato A |Opositor D  |Candidato E|\n",
    "| 8          | Opositor C  |Candidato E |Candidato A |Opositor E  |Candidato F|\n",
    "| 9          | Opositor D  |Opositor D  |Candidato A |Candidato D |Opositor A |\n",
    "| 10         | Opositor E  |Opositor E  |Candidato A |Candidato E |Opositor A |\n"
   ]
  },
  {
   "cell_type": "code",
   "execution_count": 16,
   "metadata": {
    "extensions": {
     "jupyter_dashboards": {
      "version": 1,
      "views": {
       "grid_default": {
        "hidden": true
       },
       "report_default": {}
      }
     }
    },
    "scrolled": true
   },
   "outputs": [],
   "source": [
    "import string\n",
    "from ipywidgets import *\n",
    "import ipywidgets as widgets\n",
    "\n",
    "letters = string.ascii_uppercase\n",
    "\n",
    "def ballotBuild(candidatos, opositores):\n",
    "    '''\n",
    "    Constructor de lista con todos los candidatos y opositores.\n",
    "    \n",
    "    -------\n",
    "    Parametros: \n",
    "    - numero de candidatos (int)\n",
    "    - numero de opositores (int)\n",
    "    \n",
    "    Returns:\n",
    "    - ballot (list of length candidatos + opositores)\n",
    "    '''\n",
    "    ballot = []\n",
    "    ballot_length = candidatos + opositores\n",
    "    c = 0\n",
    "    \n",
    "    for i in range(ballot_length):\n",
    "        if i < candidatos:\n",
    "            ballot.append(\"candidato\"+letters[i])\n",
    "        else:\n",
    "            ballot.append(\"opositor\"+letters[c])\n",
    "            c = c + 1\n",
    "    return(ballot)\n",
    "    \n",
    "\n",
    "def prefBuild(ballot, perfiles):\n",
    "    '''\n",
    "    Constructor de diccionario con todos los perfiles y todas las preferencias.\n",
    "    \n",
    "    El usuario determina el orden de preferencias de todos los candidatos y opositores\n",
    "    usando su nombre (candidatoA, candidatoB, opositorA, etc...).\n",
    "    \n",
    "    --------\n",
    "    Parametros:\n",
    "    - ballot (list)\n",
    "    - numero de perfiles (int)\n",
    "    \n",
    "    Returns:\n",
    "    - Perfiles con sub-diccionario de preferencias (dict)\n",
    "    '''\n",
    "    prefs = {}\n",
    "    prefInd = []\n",
    "\n",
    "    profileInd = []\n",
    "    for i in range(perfiles):\n",
    "        profileInd.append(\"perfil\"+str(i))\n",
    "        \n",
    "        \n",
    "        print(profileInd)\n",
    "        print(ballot)\n",
    "        \n",
    "        pref_only = {}\n",
    "        for j in range(len(ballot)):\n",
    "            prefInd.append(\"preferencia_\"+str(j))\n",
    "            pref_only.update({prefInd[j]:input(prefInd[j])})\n",
    "\n",
    "        print(profileInd[i])\n",
    "        print(pref_only)\n",
    "        \n",
    "        prefs.update({profileInd[i]:pref_only})\n",
    "        \n",
    "    return(prefs)\n",
    "\n",
    "def electionSim(n, prefs, ballot):\n",
    "    '''\n",
    "    Simulador de elecciones con cuatro votos por militante\n",
    "    \n",
    "    -----\n",
    "    Parametros:\n",
    "    - n, numero de militantes (int)\n",
    "    - prefs, diccionario con todos los perfiles y preferencias (dict)\n",
    "    - ballot, lista con todos los candidatos (list)\n",
    "    '''\n",
    "    perfiles = prefs.keys()\n",
    "    # add a final_ballot var to only change the ballot AFTER preferences have been established\n",
    "    # i.e. make the ballot construction independent from the preference specification\n",
    "    \n",
    "    resultados = {}\n",
    "    \n",
    "    #Initialize dictionary with 0 votes for each candidate\n",
    "    [resultados.update({candidate:0}) for candidate in ballot]\n",
    "    \n",
    "    for perfil in perfiles:\n",
    "        # creates list with top 4 preferences names\n",
    "        top4s = ['preferencia_0', 'preferencia_1', 'preferencia_2', 'preferencia_3']\n",
    "        # gets top 4 candidate names\n",
    "        top4perfil = [prefs[perfil].get(top4) for top4 in top4s]\n",
    "        # gets number of votes per profile\n",
    "        votos_perfil = int(input(\"Número de votantes de este perfil\"))\n",
    "        \n",
    "        for candidate in top4perfil:\n",
    "            # updates total number of votes by matching candidate name in each profile\n",
    "            # and adding to previous votes\n",
    "            resultados[candidate] = resultados[candidate] + votos_perfil\n",
    "        \n",
    "        \n",
    "    return(resultados)\n",
    "\n",
    "def intBallotBuild(candidatos):\n",
    "    return 0"
   ]
  },
  {
   "cell_type": "code",
   "execution_count": 17,
   "metadata": {
    "extensions": {
     "jupyter_dashboards": {
      "version": 1,
      "views": {
       "grid_default": {
        "hidden": true
       },
       "report_default": {}
      }
     }
    }
   },
   "outputs": [],
   "source": [
    "n = 1000\n",
    "candidatos = 3\n",
    "opositores = 3\n",
    "perfiles = 3\n",
    "\n",
    "\n",
    "#ballot = ballotBuild(candidatos, opositores)\n",
    "#prefs = prefBuild(ballot, perfiles)"
   ]
  },
  {
   "cell_type": "code",
   "execution_count": 18,
   "metadata": {
    "extensions": {
     "jupyter_dashboards": {
      "version": 1,
      "views": {
       "grid_default": {
        "hidden": true
       },
       "report_default": {}
      }
     }
    }
   },
   "outputs": [],
   "source": [
    "#print(prefs)\n",
    "#resultados = electionSim(n, prefs, ballot)"
   ]
  },
  {
   "cell_type": "code",
   "execution_count": 2,
   "metadata": {
    "extensions": {
     "jupyter_dashboards": {
      "version": 1,
      "views": {
       "grid_default": {
        "col": 0,
        "height": 22,
        "hidden": false,
        "row": 0,
        "width": 12
       },
       "report_default": {}
      }
     }
    },
    "scrolled": false
   },
   "outputs": [
    {
     "data": {
      "application/vnd.jupyter.widget-view+json": {
       "model_id": "aa6ae3afcb8c4f8d899edef51e006148",
       "version_major": 2,
       "version_minor": 0
      },
      "text/plain": [
       "IntText(value=12, description='n. candidatos:')"
      ]
     },
     "metadata": {},
     "output_type": "display_data"
    },
    {
     "data": {
      "application/vnd.jupyter.widget-view+json": {
       "model_id": "c34a5b215b7d4c068eb496a339a3d442",
       "version_major": 2,
       "version_minor": 0
      },
      "text/plain": [
       "Button(description='Aceptar', style=ButtonStyle(), tooltip='Numero de candidatos')"
      ]
     },
     "metadata": {},
     "output_type": "display_data"
    },
    {
     "data": {
      "application/vnd.jupyter.widget-view+json": {
       "model_id": "84a47b2cb80a4e8fbecf07ccc8a0dae7",
       "version_major": 2,
       "version_minor": 0
      },
      "text/plain": [
       "Text(value=' ', description='Nombre:')"
      ]
     },
     "metadata": {},
     "output_type": "display_data"
    },
    {
     "data": {
      "application/vnd.jupyter.widget-view+json": {
       "model_id": "6af43982514d469bbbd3beafcbe7394d",
       "version_major": 2,
       "version_minor": 0
      },
      "text/plain": [
       "Text(value=' ', description='Nombre:')"
      ]
     },
     "metadata": {},
     "output_type": "display_data"
    },
    {
     "data": {
      "application/vnd.jupyter.widget-view+json": {
       "model_id": "dfed54b06ab34a1bae5148e8165f89e9",
       "version_major": 2,
       "version_minor": 0
      },
      "text/plain": [
       "Text(value=' ', description='Nombre:')"
      ]
     },
     "metadata": {},
     "output_type": "display_data"
    },
    {
     "data": {
      "application/vnd.jupyter.widget-view+json": {
       "model_id": "380eda0d5f054b01b3e0a38b996e4112",
       "version_major": 2,
       "version_minor": 0
      },
      "text/plain": [
       "Text(value=' ', description='Nombre:')"
      ]
     },
     "metadata": {},
     "output_type": "display_data"
    },
    {
     "data": {
      "application/vnd.jupyter.widget-view+json": {
       "model_id": "45e5bb76256f42b4a4a5a6ce76b421e7",
       "version_major": 2,
       "version_minor": 0
      },
      "text/plain": [
       "Text(value=' ', description='Nombre:')"
      ]
     },
     "metadata": {},
     "output_type": "display_data"
    },
    {
     "data": {
      "application/vnd.jupyter.widget-view+json": {
       "model_id": "5ff6a346d4ad4adc9b461a0053f8bcde",
       "version_major": 2,
       "version_minor": 0
      },
      "text/plain": [
       "Text(value=' ', description='Nombre:')"
      ]
     },
     "metadata": {},
     "output_type": "display_data"
    },
    {
     "data": {
      "application/vnd.jupyter.widget-view+json": {
       "model_id": "8d1cb9ca69d54231b257341984c332b1",
       "version_major": 2,
       "version_minor": 0
      },
      "text/plain": [
       "Text(value=' ', description='Nombre:')"
      ]
     },
     "metadata": {},
     "output_type": "display_data"
    },
    {
     "data": {
      "application/vnd.jupyter.widget-view+json": {
       "model_id": "0fe4d0fa1d71440ca43f1978fb0c2e36",
       "version_major": 2,
       "version_minor": 0
      },
      "text/plain": [
       "Text(value=' ', description='Nombre:')"
      ]
     },
     "metadata": {},
     "output_type": "display_data"
    },
    {
     "data": {
      "application/vnd.jupyter.widget-view+json": {
       "model_id": "e14a012bfa3d490fa0059307c63cc9e6",
       "version_major": 2,
       "version_minor": 0
      },
      "text/plain": [
       "Text(value=' ', description='Nombre:')"
      ]
     },
     "metadata": {},
     "output_type": "display_data"
    },
    {
     "data": {
      "application/vnd.jupyter.widget-view+json": {
       "model_id": "e81a5b56405b4d6e8452f244927cc71c",
       "version_major": 2,
       "version_minor": 0
      },
      "text/plain": [
       "Text(value=' ', description='Nombre:')"
      ]
     },
     "metadata": {},
     "output_type": "display_data"
    },
    {
     "data": {
      "application/vnd.jupyter.widget-view+json": {
       "model_id": "e1a511c63bcc46ccb901e4dea020fc39",
       "version_major": 2,
       "version_minor": 0
      },
      "text/plain": [
       "Text(value=' ', description='Nombre:')"
      ]
     },
     "metadata": {},
     "output_type": "display_data"
    },
    {
     "data": {
      "application/vnd.jupyter.widget-view+json": {
       "model_id": "9f8c7a1c58004c269f0f270b775d70cd",
       "version_major": 2,
       "version_minor": 0
      },
      "text/plain": [
       "Text(value=' ', description='Nombre:')"
      ]
     },
     "metadata": {},
     "output_type": "display_data"
    },
    {
     "data": {
      "application/vnd.jupyter.widget-view+json": {
       "model_id": "94c71f89234945afa141e6bcf5f9f00a",
       "version_major": 2,
       "version_minor": 0
      },
      "text/plain": [
       "Button(description='Aceptar', style=ButtonStyle(), tooltip='Nombre de los candidatos')"
      ]
     },
     "metadata": {},
     "output_type": "display_data"
    },
    {
     "data": {
      "application/vnd.jupyter.widget-view+json": {
       "model_id": "5e6da1ed8600475e935b5de2af251ef6",
       "version_major": 2,
       "version_minor": 0
      },
      "text/plain": [
       "IntText(value=5, description='n. perfiles:')"
      ]
     },
     "metadata": {},
     "output_type": "display_data"
    },
    {
     "data": {
      "application/vnd.jupyter.widget-view+json": {
       "model_id": "11483575d92d4946b04b3f02c5ebef9f",
       "version_major": 2,
       "version_minor": 0
      },
      "text/plain": [
       "Button(description='Aceptar', style=ButtonStyle(), tooltip='Numero de perfiles')"
      ]
     },
     "metadata": {},
     "output_type": "display_data"
    },
    {
     "data": {
      "application/vnd.jupyter.widget-view+json": {
       "model_id": "05bd263ce8c44cb584d7367d14ca71a7",
       "version_major": 2,
       "version_minor": 0
      },
      "text/plain": [
       "Tab(children=(VBox(children=(IntText(value=0, description='n. votantes'), Dropdown(options=(' n1', 'n2n', 'n',…"
      ]
     },
     "metadata": {},
     "output_type": "display_data"
    },
    {
     "data": {
      "application/vnd.jupyter.widget-view+json": {
       "model_id": "ed20e761723f43e2afacfff3b763bafa",
       "version_major": 2,
       "version_minor": 0
      },
      "text/plain": [
       "Button(description='Simular elección', style=ButtonStyle(), tooltip='Correr el modelo')"
      ]
     },
     "metadata": {},
     "output_type": "display_data"
    }
   ],
   "source": [
    "from IPython.display import display\n",
    "from ipywidgets import *\n",
    "import ipywidgets as widgets\n",
    "import operator\n",
    "\n",
    "candidatos = widgets.IntText(\n",
    "    value=12,\n",
    "    description='n. candidatos:',\n",
    "    disabled=False\n",
    ")\n",
    "\n",
    "perfiles = widgets.IntText(\n",
    "    value=5,\n",
    "    description='n. perfiles:',\n",
    "    disabled=False\n",
    ")\n",
    "\n",
    "tab = widgets.Tab()\n",
    "\n",
    "button = widgets.Button(\n",
    "    description='Aceptar',\n",
    "    disabled=False,\n",
    "    button_style='', # 'success', 'info', 'warning', 'danger' or ''\n",
    "    tooltip='Numero de candidatos'   \n",
    ")\n",
    "\n",
    "button2 = widgets.Button(\n",
    "    description='Aceptar',\n",
    "    disabled=False,\n",
    "    button_style='', # 'success', 'info', 'warning', 'danger' or ''\n",
    "    tooltip='Nombre de los candidatos'\n",
    ")\n",
    "\n",
    "button3 = widgets.Button(\n",
    "    description='Aceptar',\n",
    "    disabled=False,\n",
    "    button_style='', # 'success', 'info', 'warning', 'danger' or ''\n",
    "    tooltip='Numero de perfiles'\n",
    ")\n",
    "\n",
    "button4 = widgets.Button(\n",
    "    description='Simular elección',\n",
    "    disabled=False,\n",
    "    button_style='', # 'success', 'info', 'warning', 'danger' or ''\n",
    "    tooltip='Correr el modelo'\n",
    ")\n",
    "\n",
    "def on_button_clicked(b):\n",
    "    b.description = 'Aceptar'\n",
    "    b.disabled = True\n",
    "    \n",
    "    for i in range(candidatos.value):\n",
    "        w1 = widgets.Text(\n",
    "            value=\" \",\n",
    "            min=0,\n",
    "            max=10,\n",
    "            step=1,\n",
    "            description='Nombre:',\n",
    "            disabled=False\n",
    "        )\n",
    "        nom_candidatos.append(w1)\n",
    "        \n",
    "    for i in nom_candidatos:\n",
    "        display(i)\n",
    "        \n",
    "    display(button2)\n",
    "\n",
    "def button2_on_click(b2):\n",
    "        b2.description = 'Aceptar'\n",
    "        b2.disabled = True\n",
    "        \n",
    "        for candidato in nom_candidatos:\n",
    "            nom_candidatos_list.append(candidato.value)\n",
    "        \n",
    "        display(perfiles)\n",
    "        display(button3)\n",
    "\n",
    "        \n",
    "#AGREGAR OPCION NOMBRAR PERFILES\n",
    "def button_prof_on_click(bp):\n",
    "    bp.description = 'aceptar'\n",
    "    \n",
    "def button3_on_click(b3):\n",
    "    n_perfiles = perfiles.value\n",
    "    b3.disabled = True\n",
    "\n",
    "    items = []\n",
    "    \n",
    "    for i in range(n_perfiles):\n",
    "        items.append(widgets.IntText(description='n. votantes'))\n",
    "    \n",
    "        for j in nom_candidatos:\n",
    "            items.append(widgets.Dropdown(options=nom_candidatos_list))\n",
    "                \n",
    "        tab.set_title(i, 'Perfil'+ str(i+1))\n",
    "\n",
    "    n_candidatos = len(nom_candidatos)\n",
    "    children = [widgets.VBox(items[start:start+n_candidatos+1]) for start in range(0, len(items), n_candidatos+1)]\n",
    "\n",
    "    tab.children = children\n",
    "    \n",
    "    display(tab)\n",
    "    display(button4)\n",
    "    \n",
    "def button4_on_click(b4):\n",
    "    b4.disabled = False\n",
    "    \n",
    "    n_perfiles = perfiles.value\n",
    "    resultados = {}\n",
    "    ballot = nom_candidatos_list\n",
    "    \n",
    "    #Initialize dictionary with 0 votes for each candidate\n",
    "    [resultados.update({candidato:0}) for candidato in ballot]\n",
    "    \n",
    "    for i in range(n_perfiles):\n",
    "        votos = tab.children[i].children[0].value\n",
    "        \n",
    "        for j in range(4):\n",
    "            if j > len(ballot) or len(ballot) < 6:\n",
    "                print('Insuficiente número de candidatos')\n",
    "                \n",
    "            candidato = tab.children[i].children[j + 1].value\n",
    "            resultados[candidato] = resultados[candidato] + votos\n",
    "            \n",
    "    ganadores = sorted(resultados.items(), key=operator.itemgetter(1), reverse = True)[:7] \n",
    "    \n",
    "    print('1er VP: '+str(ganadores[0][0]) + ' con ' + str(ganadores[0][1]) + ' votos')\n",
    "    print('2do VP: '+str(ganadores[1][0]) + ' con ' + str(ganadores[1][1]) + ' votos')\n",
    "    print('3er VP: '+str(ganadores[2][0]) + ' con ' + str(ganadores[2][1]) + ' votos')\n",
    "    print('4to VP: '+str(ganadores[3][0]) + ' con ' + str(ganadores[3][1]) + ' votos')\n",
    "    print('5to VP: '+str(ganadores[4][0]) + ' con ' + str(ganadores[4][1]) + ' votos')\n",
    "    print('6to VP: '+str(ganadores[5][0]) + ' con ' + str(ganadores[5][1]) + ' votos')\n",
    "\n",
    "    print(resultados)\n",
    "\n",
    "nom_candidatos = []\n",
    "nom_candidatos_list = []\n",
    "\n",
    "display(candidatos, button)\n",
    "button.on_click(on_button_clicked)\n",
    "button2.on_click(button2_on_click)\n",
    "button3.on_click(button3_on_click)\n",
    "button4.on_click(button4_on_click)"
   ]
  },
  {
   "cell_type": "code",
   "execution_count": 15,
   "metadata": {
    "extensions": {
     "jupyter_dashboards": {
      "version": 1,
      "views": {
       "grid_default": {
        "col": 8,
        "height": 4,
        "hidden": false,
        "row": 44,
        "width": 4
       },
       "report_default": {}
      }
     }
    }
   },
   "outputs": [
    {
     "data": {
      "text/plain": [
       "\"\\npreferencias_perfiles = []\\n\\nfor i in range(perfiles.value):\\n    options = {}\\n    opcion = 1\\n    for opcion,candidato in nom_list:\\n        options.update({opcion:candidato})\\n        opcion = opcion + 1\\n        \\n    w2 = widgets.Dropdown(\\n\\n        )\\n\\nwidgets.Dropdown(\\n    options={'One': 1, 'Two': 2, 'Three': 3},\\n    value=2,\\n    description='Number:',)\\n\\n\""
      ]
     },
     "execution_count": 15,
     "metadata": {},
     "output_type": "execute_result"
    }
   ],
   "source": [
    "'''\n",
    "preferencias_perfiles = []\n",
    "\n",
    "for i in range(perfiles.value):\n",
    "    options = {}\n",
    "    opcion = 1\n",
    "    for opcion,candidato in nom_list:\n",
    "        options.update({opcion:candidato})\n",
    "        opcion = opcion + 1\n",
    "        \n",
    "    w2 = widgets.Dropdown(\n",
    "\n",
    "        )\n",
    "\n",
    "widgets.Dropdown(\n",
    "    options={'One': 1, 'Two': 2, 'Three': 3},\n",
    "    value=2,\n",
    "    description='Number:',)\n",
    "\n",
    "'''"
   ]
  },
  {
   "cell_type": "code",
   "execution_count": null,
   "metadata": {
    "extensions": {
     "jupyter_dashboards": {
      "version": 1,
      "views": {
       "grid_default": {
        "hidden": true
       },
       "report_default": {}
      }
     }
    }
   },
   "outputs": [],
   "source": []
  },
  {
   "cell_type": "code",
   "execution_count": null,
   "metadata": {
    "extensions": {
     "jupyter_dashboards": {
      "version": 1,
      "views": {
       "grid_default": {
        "hidden": true
       },
       "report_default": {}
      }
     }
    }
   },
   "outputs": [],
   "source": []
  }
 ],
 "metadata": {
  "extensions": {
   "jupyter_dashboards": {
    "activeView": "grid_default",
    "version": 1,
    "views": {
     "grid_default": {
      "cellMargin": 10,
      "defaultCellHeight": 20,
      "maxColumns": 12,
      "name": "grid",
      "type": "grid"
     },
     "report_default": {
      "name": "report",
      "type": "report"
     }
    }
   }
  },
  "kernelspec": {
   "display_name": "Python 3",
   "language": "python",
   "name": "python3"
  },
  "language_info": {
   "codemirror_mode": {
    "name": "ipython",
    "version": 3
   },
   "file_extension": ".py",
   "mimetype": "text/x-python",
   "name": "python",
   "nbconvert_exporter": "python",
   "pygments_lexer": "ipython3",
   "version": "3.6.5"
  }
 },
 "nbformat": 4,
 "nbformat_minor": 2
}
