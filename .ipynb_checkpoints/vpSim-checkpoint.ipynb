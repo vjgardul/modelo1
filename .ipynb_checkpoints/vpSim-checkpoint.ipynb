{
 "cells": [
  {
   "cell_type": "markdown",
   "metadata": {
    "extensions": {
     "jupyter_dashboards": {
      "version": 1,
      "views": {
       "grid_default": {
        "col": 0,
        "height": 22,
        "hidden": false,
        "row": 22,
        "width": 12
       },
       "report_default": {}
      }
     }
    }
   },
   "source": [
    "# Lista vicepresidentes\n",
    "\n",
    "La elección interna de vicepresidentes permite a cada votante marcar **cuatro distintas** opciones de preferencia. Del total de votos, las seis mayorías son electos como vicepresidente.\n",
    "\n",
    "Encontrar el número óptimo de candidatos que nuestra lista debe presentar depende:\n",
    "\n",
    "1. Cantidad de votantes\n",
    "2. Candidatos lista opositora\n",
    "3. Preferencia votantes\n",
    "\n",
    "La elección de candidatos es fundamental ya que una estrategia equivocada puede generar resultados no deseados.\n",
    "\n",
    "A modo de ejemplo, consideramos el siguiente escenario:\n",
    "\n",
    "1. Universo de 5 votantes\n",
    "2. Perfiles de preferencia:\n",
    "\n",
    "|Preferencias| Perfil 1    | Perfil 2   | Perfil 3   | Perfil 4   | Perfil 5  |\n",
    "|:----------:|:-----------:|:----------:|:----------:|:----------:|:---------:|\n",
    "| 1          | Candidato A |Candidato A |Candidato A |Opositor A  |Opositor A |\n",
    "| 2          | Candidato B |Candidato B |Candidato D |Opositor B  |Candidato A|\n",
    "| 3          | Candidato C |Opositor A  |Candidato A |Opositor C  |Candidato B|\n",
    "| 4          | Candidato D |Candidato C |Candidato A |Candidato A |Opositor B |\n",
    "| 5          | Candidato E |Candidato D |Candidato A |Candidato B |Candidato C|\n",
    "| 6          | Opositor A  |Opositor B  |Candidato A |Candidato C |Candidato D|\n",
    "| 7          | Opositor B  |Opositor C  |Candidato A |Opositor D  |Candidato E|\n",
    "| 8          | Opositor C  |Candidato E |Candidato A |Opositor E  |Candidato F|\n",
    "| 9          | Opositor D  |Opositor D  |Candidato A |Candidato D |Opositor A |\n",
    "| 10         | Opositor E  |Opositor E  |Candidato A |Candidato E |Opositor A |\n"
   ]
  },
  {
   "cell_type": "code",
   "execution_count": 1,
   "metadata": {
    "extensions": {
     "jupyter_dashboards": {
      "version": 1,
      "views": {
       "grid_default": {
        "col": 0,
        "height": 22,
        "hidden": false,
        "row": 0,
        "width": 12
       },
       "report_default": {}
      }
     }
    },
    "scrolled": false
   },
   "outputs": [
    {
     "data": {
      "application/vnd.jupyter.widget-view+json": {
       "model_id": "bf58e94c8cd64454a6d0aaad8b290e79",
       "version_major": 2,
       "version_minor": 0
      },
      "text/plain": [
       "IntText(value=12, description='n. candidatos:')"
      ]
     },
     "metadata": {},
     "output_type": "display_data"
    },
    {
     "data": {
      "application/vnd.jupyter.widget-view+json": {
       "model_id": "4b0724da5a394eb582c925bb72641b60",
       "version_major": 2,
       "version_minor": 0
      },
      "text/plain": [
       "Button(description='Aceptar', style=ButtonStyle(), tooltip='Numero de candidatos')"
      ]
     },
     "metadata": {},
     "output_type": "display_data"
    },
    {
     "data": {
      "application/vnd.jupyter.widget-view+json": {
       "model_id": "e6107aa134674fab8b03c1c1dbeda8ee",
       "version_major": 2,
       "version_minor": 0
      },
      "text/plain": [
       "Text(value=' ', description='Nombre:')"
      ]
     },
     "metadata": {},
     "output_type": "display_data"
    },
    {
     "data": {
      "application/vnd.jupyter.widget-view+json": {
       "model_id": "6335371f9f344adea2a16c288ef3b34b",
       "version_major": 2,
       "version_minor": 0
      },
      "text/plain": [
       "Text(value=' ', description='Nombre:')"
      ]
     },
     "metadata": {},
     "output_type": "display_data"
    },
    {
     "data": {
      "application/vnd.jupyter.widget-view+json": {
       "model_id": "beb8434201b245d7aa0548415ab5c9e9",
       "version_major": 2,
       "version_minor": 0
      },
      "text/plain": [
       "Text(value=' ', description='Nombre:')"
      ]
     },
     "metadata": {},
     "output_type": "display_data"
    },
    {
     "data": {
      "application/vnd.jupyter.widget-view+json": {
       "model_id": "38d50d062fe74d3db0a44a7200dc3a90",
       "version_major": 2,
       "version_minor": 0
      },
      "text/plain": [
       "Button(description='Aceptar', style=ButtonStyle(), tooltip='Nombre de los candidatos')"
      ]
     },
     "metadata": {},
     "output_type": "display_data"
    },
    {
     "data": {
      "application/vnd.jupyter.widget-view+json": {
       "model_id": "d0671068cfb444ca8b3fe4a0574394f0",
       "version_major": 2,
       "version_minor": 0
      },
      "text/plain": [
       "IntText(value=5, description='n. perfiles:')"
      ]
     },
     "metadata": {},
     "output_type": "display_data"
    },
    {
     "data": {
      "application/vnd.jupyter.widget-view+json": {
       "model_id": "0319ede7db4b4cb9a6af0ac346243af5",
       "version_major": 2,
       "version_minor": 0
      },
      "text/plain": [
       "Button(description='Aceptar', style=ButtonStyle(), tooltip='Numero de perfiles')"
      ]
     },
     "metadata": {},
     "output_type": "display_data"
    },
    {
     "data": {
      "application/vnd.jupyter.widget-view+json": {
       "model_id": "c5a40d8050844b8f97fa9ead213f570d",
       "version_major": 2,
       "version_minor": 0
      },
      "text/plain": [
       "Tab(children=(VBox(children=(IntText(value=0, description='n. votantes'), Dropdown(options=(' 31', '1', '3'), …"
      ]
     },
     "metadata": {},
     "output_type": "display_data"
    },
    {
     "data": {
      "application/vnd.jupyter.widget-view+json": {
       "model_id": "de88eca265ca47bbb34dd0d891526184",
       "version_major": 2,
       "version_minor": 0
      },
      "text/plain": [
       "Button(description='Simular elección', style=ButtonStyle(), tooltip='Correr el modelo')"
      ]
     },
     "metadata": {},
     "output_type": "display_data"
    }
   ],
   "source": [
    "from IPython.display import display\n",
    "from ipywidgets import *\n",
    "import ipywidgets as widgets\n",
    "import operator\n",
    "\n",
    "candidatos = widgets.IntText(\n",
    "    value=12,\n",
    "    description='n. candidatos:',\n",
    "    disabled=False\n",
    ")\n",
    "\n",
    "perfiles = widgets.IntText(\n",
    "    value=5,\n",
    "    description='n. perfiles:',\n",
    "    disabled=False\n",
    ")\n",
    "\n",
    "tab = widgets.Tab()\n",
    "\n",
    "button = widgets.Button(\n",
    "    description='Aceptar',\n",
    "    disabled=False,\n",
    "    button_style='', # 'success', 'info', 'warning', 'danger' or ''\n",
    "    tooltip='Numero de candidatos'   \n",
    ")\n",
    "\n",
    "button2 = widgets.Button(\n",
    "    description='Aceptar',\n",
    "    disabled=False,\n",
    "    button_style='', # 'success', 'info', 'warning', 'danger' or ''\n",
    "    tooltip='Nombre de los candidatos'\n",
    ")\n",
    "\n",
    "button3 = widgets.Button(\n",
    "    description='Aceptar',\n",
    "    disabled=False,\n",
    "    button_style='', # 'success', 'info', 'warning', 'danger' or ''\n",
    "    tooltip='Numero de perfiles'\n",
    ")\n",
    "\n",
    "button4 = widgets.Button(\n",
    "    description='Simular elección',\n",
    "    disabled=False,\n",
    "    button_style='', # 'success', 'info', 'warning', 'danger' or ''\n",
    "    tooltip='Correr el modelo'\n",
    ")\n",
    "\n",
    "def on_button_clicked(b):\n",
    "    b.description = 'Aceptar'\n",
    "    b.disabled = True\n",
    "    \n",
    "    for i in range(candidatos.value):\n",
    "        w1 = widgets.Text(\n",
    "            value=\" \",\n",
    "            min=0,\n",
    "            max=10,\n",
    "            step=1,\n",
    "            description='Nombre:',\n",
    "            disabled=False\n",
    "        )\n",
    "        nom_candidatos.append(w1)\n",
    "        \n",
    "    for i in nom_candidatos:\n",
    "        display(i)\n",
    "        \n",
    "    display(button2)\n",
    "\n",
    "def button2_on_click(b2):\n",
    "        b2.description = 'Aceptar'\n",
    "        b2.disabled = True\n",
    "        \n",
    "        for candidato in nom_candidatos:\n",
    "            nom_candidatos_list.append(candidato.value)\n",
    "        \n",
    "        display(perfiles)\n",
    "        display(button3)\n",
    "\n",
    "        \n",
    "#AGREGAR OPCION NOMBRAR PERFILES\n",
    "def button_prof_on_click(bp):\n",
    "    bp.description = 'aceptar'\n",
    "    \n",
    "def button3_on_click(b3):\n",
    "    n_perfiles = perfiles.value\n",
    "    b3.disabled = True\n",
    "\n",
    "    items = []\n",
    "    \n",
    "    for i in range(n_perfiles):\n",
    "        items.append(widgets.IntText(description='n. votantes'))\n",
    "    \n",
    "        for j in nom_candidatos:\n",
    "            items.append(widgets.Dropdown(options=nom_candidatos_list))\n",
    "                \n",
    "        tab.set_title(i, 'Perfil'+ str(i+1))\n",
    "\n",
    "    n_candidatos = len(nom_candidatos)\n",
    "    children = [widgets.VBox(items[start:start+n_candidatos+1]) for start in range(0, len(items), n_candidatos+1)]\n",
    "\n",
    "    tab.children = children\n",
    "    \n",
    "    display(tab)\n",
    "    display(button4)\n",
    "    \n",
    "def button4_on_click(b4):\n",
    "    b4.disabled = False\n",
    "    \n",
    "    n_perfiles = perfiles.value\n",
    "    resultados = {}\n",
    "    ballot = nom_candidatos_list\n",
    "    \n",
    "    #Initialize dictionary with 0 votes for each candidate\n",
    "    [resultados.update({candidato:0}) for candidato in ballot]\n",
    "    \n",
    "    for i in range(n_perfiles):\n",
    "        votos = tab.children[i].children[0].value\n",
    "        \n",
    "        for j in range(4):\n",
    "            if j > len(ballot) or len(ballot) < 6:\n",
    "                print('Insuficiente número de candidatos')\n",
    "                \n",
    "            candidato = tab.children[i].children[j + 1].value\n",
    "            resultados[candidato] = resultados[candidato] + votos\n",
    "            \n",
    "    ganadores = sorted(resultados.items(), key=operator.itemgetter(1), reverse = True)[:7] \n",
    "    \n",
    "    print('1er VP: '+str(ganadores[0][0]) + ' con ' + str(ganadores[0][1]) + ' votos')\n",
    "    print('2do VP: '+str(ganadores[1][0]) + ' con ' + str(ganadores[1][1]) + ' votos')\n",
    "    print('3er VP: '+str(ganadores[2][0]) + ' con ' + str(ganadores[2][1]) + ' votos')\n",
    "    print('4to VP: '+str(ganadores[3][0]) + ' con ' + str(ganadores[3][1]) + ' votos')\n",
    "    print('5to VP: '+str(ganadores[4][0]) + ' con ' + str(ganadores[4][1]) + ' votos')\n",
    "    print('6to VP: '+str(ganadores[5][0]) + ' con ' + str(ganadores[5][1]) + ' votos')\n",
    "\n",
    "    print(resultados)\n",
    "\n",
    "nom_candidatos = []\n",
    "nom_candidatos_list = []\n",
    "\n",
    "display(candidatos, button)\n",
    "button.on_click(on_button_clicked)\n",
    "button2.on_click(button2_on_click)\n",
    "button3.on_click(button3_on_click)\n",
    "button4.on_click(button4_on_click)"
   ]
  }
 ],
 "metadata": {
  "extensions": {
   "jupyter_dashboards": {
    "activeView": "grid_default",
    "version": 1,
    "views": {
     "grid_default": {
      "cellMargin": 10,
      "defaultCellHeight": 20,
      "maxColumns": 12,
      "name": "grid",
      "type": "grid"
     },
     "report_default": {
      "name": "report",
      "type": "report"
     }
    }
   }
  },
  "kernelspec": {
   "display_name": "Python 3",
   "language": "python",
   "name": "python3"
  },
  "language_info": {
   "codemirror_mode": {
    "name": "ipython",
    "version": 3
   },
   "file_extension": ".py",
   "mimetype": "text/x-python",
   "name": "python",
   "nbconvert_exporter": "python",
   "pygments_lexer": "ipython3",
   "version": "3.6.5"
  }
 },
 "nbformat": 4,
 "nbformat_minor": 2
}
